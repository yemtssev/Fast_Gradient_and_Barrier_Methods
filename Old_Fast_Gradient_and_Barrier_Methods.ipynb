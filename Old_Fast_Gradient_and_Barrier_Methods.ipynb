{
  "cells": [
    {
      "cell_type": "code",
      "execution_count": null,
      "metadata": {
        "id": "FpGRj1iT1DB6"
      },
      "outputs": [],
      "source": [
        "import pandas as pd\n",
        "import numpy as np\n",
        "import scipy as sp\n",
        "import matplotlib.pyplot as plt\n",
        "from tqdm import tqdm\n",
        "import math\n",
        "import time"
      ]
    },
    {
      "cell_type": "markdown",
      "metadata": {
        "id": "E-HQYiPJRI2M"
      },
      "source": [
        "\n",
        "Рассмотрим задачу минимизации кусочно-линейной функции на сфере\n",
        "\\begin{equation}\n",
        "\\begin{split}\n",
        "&\\min_{x\\in R^n} \\left \\{ f(x) = \\max_{1 \\leq i \\leq k} (a_i^Tx -b_i) \\right \\}\\\\\n",
        "&\\text{subject to}\\\\\n",
        "&\\|x-x_0\\|_2^2 \\leq \\sigma^2\n",
        "\\end{split}\n",
        "\\end{equation}\n",
        "\n"
      ]
    },
    {
      "cell_type": "markdown",
      "metadata": {
        "id": "LgCnSta6RI2Q"
      },
      "source": [
        "1. Построим сглаженную версию целевой функции $f_{\\mu}(x)$ с параметром гладкости $\\mu$\n"
      ]
    },
    {
      "cell_type": "markdown",
      "metadata": {
        "id": "yIKGKE2FRI2R"
      },
      "source": [
        "2. Реализуем быстрый градиентный метод из статьи (Nesterov, 2005)"
      ]
    },
    {
      "cell_type": "markdown",
      "metadata": {
        "id": "I23wm7q9RI2S"
      },
      "source": [
        "\n",
        "---\n",
        "\n"
      ]
    },
    {
      "cell_type": "markdown",
      "metadata": {
        "id": "UBLBwmQORI2S"
      },
      "source": [
        "Указанная выше задача может быть записана в эквивалентном виде\n",
        "\n",
        "\\begin{equation}\n",
        "\\begin{split}\n",
        "&\\min_{x\\in R^n, t} t \\\\\n",
        "&\\text{subject to}\\\\\n",
        "&a_i^Tx -b_i \\leq t, \\quad 1\\leq i\\leq k\\\\\n",
        "&\\|x-x_0\\|_2^2 \\leq \\sigma^2\n",
        "\\end{split}\n",
        "\\end{equation}"
      ]
    },
    {
      "cell_type": "markdown",
      "metadata": {
        "id": "qadDztcU1DCC"
      },
      "source": [
        "Реализуем её с помощью барьерного метода и сравним результаты с быстрым градиентным"
      ]
    },
    {
      "cell_type": "markdown",
      "metadata": {
        "id": "A-JqlA6K1DCC"
      },
      "source": [
        "# Part 1"
      ]
    },
    {
      "cell_type": "markdown",
      "metadata": {
        "id": "E3xDKbun1DCD"
      },
      "source": [
        "# Function smoothing"
      ]
    },
    {
      "cell_type": "markdown",
      "metadata": {
        "id": "9uM3nvfh1DCE"
      },
      "source": [
        "$$\\min_{x\\in R^n} \\left \\{ f(x) = \\max_{1 \\leq i \\leq k} (a_i^Tx -b_i) \\right \\}$$\n",
        "Функции $(a_i^Tx -b_i)$ - выпуклые, тогда мы можем нашу функцию представить на единичном k-мерном симплексе:\n",
        "$$Q = \\{u \\in \\mathbf{R}^k| \\sum\\limits_{i = 1}^{k} u_i = 1, u_i\\geqslant 0 \\ \\forall i = \\overline{1,k}\\}$$\n",
        "Тогда наша функция имеет вид:\n",
        "$$f(x) = \\max\\limits_{u \\in Q} \\sum\\limits_{i = 1}^{k} u_i(a_i^Tx -b_i)$$\n",
        "Рассмотрим технику сглаживания:\n",
        "$$f(x) \\rightarrow \\min\\limits_{x \\in Q_1}$$\n",
        "$$f(x) = \\max\\limits_{u \\in Q_2} (u^TAx -\\varphi_2(u)) + \\varphi_1(x)$$\n",
        "Где $\\varphi_2(u)$ и $\\varphi_1(x)$ - гладкие и выпуклые функции, а $\\max\\limits_{u \\in Q_2} (u^TAx -\\varphi_2(u))$ - явно не гладкая. В нашем случае $\\varphi_1(x) = 0$. Остаётся только негладкая часть.\n",
        "\n",
        "Рассмотрим такую функцию $d(u)$ - ($\\theta$ - сильно выпуклую) и равную нулю в своей оптимальной точке. Тогда нашу функцию $f(x)$ мы будем приближать гладкой функцией $f_{\\mu}(x) = \\max\\limits_{u \\in Q_2} (u^TAx -\\varphi_2(u) - \\mu d(u)) + \\varphi_1(x)$. Значит теперь мы работаем с функцией $f_{\\mu}(x)$:\n",
        "$$f_{\\mu}(x) \\rightarrow \\min\\limits_{x \\in Q_1}$$\n",
        "$$f_{\\mu}(x) \\leqslant f(x) \\leqslant f_{\\mu}(x) + \\mu \\max\\limits_{u \\in Q_2} d(u)$$\n",
        "Обычно для сглаживания на единичном симплексе выбирают функцию энтропии: $\\widetilde{d(u)} = \\sum\\limits_{i = 1}^{k} u_{i}ln(u_{i})$. Найдём её минимум на $Q$:\n",
        "\n",
        "Метод множителей Лагранжа: \n",
        "$$\\widetilde{L(u,\\lambda)} = \\sum\\limits_{i = 1}^{k} u_{i}ln(u_{i}) + \\lambda(\\sum\\limits_{i = 1}^{k} u_{i} - 1)$$\n",
        "$$\\nabla_{u_i}\\widetilde{L(u,\\lambda)} = ln(u^*_i) + 1 + \\lambda = 0 \\Rightarrow u^*_i = e^{-(1 + \\lambda)} \\ \\forall i = \\overline{1,k}$$\n",
        "$$\\sum\\limits_{i = 1}^{k} e^{-(1 + \\lambda)} = 1 \\Rightarrow e^{-(1 + \\lambda)} = \\frac{1}{k} \\Rightarrow \\lambda = ln(k) - 1 \\Rightarrow u^*_i = \\frac{1}{k} \\gt 0  \\  \\forall i = \\overline{1,k}$$\n",
        "Значение функции в точке минимума: $\\widetilde{d(u^*)} = -ln(k)$. Значит наша функция $d(u) = \\sum\\limits_{i = 1}^{k} u_{i}ln(u_{i}) + ln(k)$, т.к $d(u^*) = 0$ и $u^* \\in Q$ \n",
        "Тогда наша функция $f_\\mu$ имеет вид:\n",
        "$$f_\\mu = \\max\\limits_{u \\in Q} [\\sum\\limits_{i = 1}^{k} u_i(a_i^Tx -b_i) - \\mu(\\sum\\limits_{i = 1}^{k} u_{i}ln(u_{i}) + ln(k))]$$\n",
        "Рассмотрим функцию $-f_\\mu$ и запишем для неё Лагранжиан:\n",
        "$$L(u, \\lambda, \\nu) = -\\sum\\limits_{i = 1}^{k} u_i(a_i^Tx -b_i) + \\mu \\sum\\limits_{i = 1}^{k} u_{i}ln(u_{i}) + \\mu ln(k) -\\sum\\limits_{i = 1}^{k} \\nu_i u_i + \\lambda(\\sum\\limits_{i = 1}^{k} u_i - 1)$$\n",
        "Тогда запишем ККТ:\n",
        "$$\n",
        "\\begin{cases}\n",
        "\\nabla_{u_i} L(u, \\lambda^*, \\nu^*) = 0 & (1)\\\\\n",
        "\\sum\\limits_{i = 1}^{k} u^*_i = 1, u^*_i\\geqslant 0 \\ \\forall i = \\overline{1,k} & (2) \\\\\n",
        "\\nu^*_i u^*_i = 0 & (3)\\\\\n",
        "\\nu^*_i \\geqslant 0 & (4)\n",
        "\\end{cases}\n",
        "$$\n",
        "$$\\nabla_{u_i} L(u, \\lambda^*, \\nu^*) = -(a_i^Tx -b_i) + \\mu(1 + ln(u^*_i)) - \\nu^*_i + \\lambda^* = 0 \\Rightarrow u^*_{i} = exp(\\frac{a_i^Tx -b_i + \\nu^*_i - \\lambda^* - \\mu}{\\mu}) \\ \\forall i = \\overline{1,k}$$\n",
        "Заметим, что $u^*_{i} \\gt 0 \\ \\forall i = \\overline{1,k}$, тогда из (3) следует, что $\\nu^*_i = 0\\ \\forall i = \\overline{1,k}$. Тогда $u^*_{i}$ имеет вид:\n",
        "$$u^*_{i} = exp(\\frac{a_i^Tx -b_i - \\lambda^* - \\mu}{\\mu}) \\ \\forall i = \\overline{1,k}$$\n",
        "Тогда из (2) следует:\n",
        "$$\\sum\\limits_{i = 1}^{k} exp(\\frac{a_i^Tx -b_i}{\\mu}) exp(\\frac{- \\lambda^* - \\mu}{\\mu}) = 1 \\Rightarrow exp(\\frac{- \\lambda^* - \\mu}{\\mu}) = \\frac{1}{\\sum\\limits_{i = 1}^{k} exp(\\frac{a_i^Tx -b_i}{\\mu})}$$\n",
        "$$u^*_{i} = \\frac{exp(\\frac{a_i^Tx -b_i}{\\mu})}{\\sum\\limits_{i = 1}^{k} exp(\\frac{a_i^Tx -b_i}{\\mu})} \\ \\forall i = \\overline{1,k}$$\n",
        "Так как минимум функции $-f_\\mu$ совпадает с максимумом $f_\\mu$, тогда функция $f_\\mu$ имеет вид:\n",
        "$$f_\\mu = \\sum\\limits_{i = 1}^{k}(\\frac{exp(\\frac{a_i^Tx -b_i}{\\mu})}{\\sum\\limits_{j = 1}^{k} exp(\\frac{a_j^Tx -b_j}{\\mu})})(a_i^Tx -b_i) - \\mu\\sum\\limits_{i = 1}^{k}(\\frac{exp(\\frac{a_i^Tx -b_i}{\\mu})}{\\sum\\limits_{j = 1}^{k} exp(\\frac{a_j^Tx -b_j}{\\mu})})((a_i^Tx -b_i) - ln(\\sum\\limits_{j = 1}^{k} exp(\\frac{a_j^Tx -b_j}{\\mu}))) - \\mu ln(k)$$\n",
        "$$f_\\mu = \\mu\\sum\\limits_{i = 1}^{k}(\\frac{exp(\\frac{a_i^Tx -b_i}{\\mu})}{\\sum\\limits_{j = 1}^{k} exp(\\frac{a_j^Tx -b_j}{\\mu})}) ln(\\sum\\limits_{j = 1}^{k} exp(\\frac{a_j^Tx -b_j}{\\mu}))) - \\mu ln(k)$$\n",
        "Итог:\n",
        "$$f_\\mu = \\mu ln(\\sum\\limits_{j = 1}^{k} exp(\\frac{a_j^Tx -b_j}{\\mu}))) - \\mu ln(k)$$"
      ]
    },
    {
      "cell_type": "markdown",
      "metadata": {
        "id": "mNwsxBjh1DCF"
      },
      "source": [
        "# Fast Gradient Descent"
      ]
    },
    {
      "cell_type": "markdown",
      "metadata": {
        "id": "TWE-Gdf11DCF"
      },
      "source": [
        "Будем решать задачу:\n",
        "$$\n",
        "\\begin{equation}\n",
        "\\begin{split}\n",
        "&\\mu ln(\\sum\\limits_{j = 1}^{k} exp(\\frac{a_j^Tx -b_j}{\\mu}))) - \\mu ln(k) \\rightarrow \\min\\limits_{x \\in \\mathbf{R}^n} \\\\\n",
        "&\\text{subject to}\\\\\n",
        "&\\|x-x_0\\|_2^2 \\leq \\sigma^2\n",
        "\\end{split}\n",
        "\\end{equation}$$\n",
        "Посчитаем $\\nabla f_\\mu$:\n",
        "$$\\nabla f_\\mu = \\sum\\limits_{i = 1}^k \\frac{a_{i}exp(\\frac{a_i^Tx -b_i}{\\mu})}{\\sum\\limits_{j = 1}^{k} exp(\\frac{a_j^Tx -b_j)}{\\mu})}$$\n",
        "Функция $f_\\mu$ - с Липшицевым градиентом $\\Rightarrow$ $f_\\mu(y) - f_\\mu(x) \\leqslant <\\nabla f_\\mu(x), y-x> + \\frac{L\\|y-x\\|^2_2}{2}$. Пусть множество $T_Q(x) \\subset Q$ - множество оптимальных решений того, что справа, где $Q = \\{x \\in \\mathbf{R}^n | \\|x-x_0\\|^2_2 \\leqslant \\sigma^2\\}$ \n",
        "$$T_Q(x) = arg\\min\\limits_{y \\in Q} \\{<\\nabla f_\\mu(x), y-x> + \\frac{L\\|y-x\\|^2_2}{2}\\}$$\n",
        "$$T_Q(x) = arg\\min\\limits_{y \\in Q} \\{<\\nabla f_\\mu(x), y> + \\frac{L\\|y\\|^2_2}{2} - L<x,y>\\}$$\n",
        "$$T_Q(x) = arg\\min\\limits_{y \\in Q} \\{<\\nabla f_\\mu(x) -Lx, y> + \\frac{L\\|y\\|^2_2}{2} - L<x_0,y> + L<x_0,y>\\}$$\n",
        "$$T_Q(x) = arg\\min\\limits_{y \\in Q} \\{<\\nabla f_\\mu(x) -Lx +Lx_0, y - x_0> + \\frac{L\\|y - x_0\\|^2_2}{2}\\}$$\n",
        "$$T_Q(x) = x_ 0 + arg\\min\\limits_{z \\in \\widetilde{Q}} \\{<\\nabla f_\\mu(x) -Lx +Lx_0, z> + \\frac{L\\|z\\|^2_2}{2}\\}, \\widetilde{Q} = \\{x \\in \\mathbf{R}^n | \\|x\\|_2^2 \\leqslant \\sigma^2\\}$$\n",
        "ККТ:\n",
        "$$L(z, \\lambda) = <\\nabla f_\\mu(x) -Lx +Lx_0, z> + \\frac{L\\|z\\|^2_2}{2}\\ + \\lambda (\\|z\\|_2^2 - \\sigma^2)$$\n",
        "$$\\nabla_z L(z, \\lambda) = \\nabla f_\\mu(x) -Lx +Lx_0 + Lz + 2\\lambda z = 0 \\Rightarrow \\lambda = \\frac{-\\nabla f_\\mu(x) +Lx -Lx_0 - Lz}{2z}$$\n",
        "$$\\lambda (\\|z\\|_2^2 - \\sigma^2) = 0 \\Rightarrow z = x - x_0 -\\frac{\\nabla f_\\mu(x)}{L} \\ or \\  \\|z\\|_2^2 = \\sigma^2$$\n",
        "Чтобы получить минимальное значение, при выходе за множество мы берём вектор z, длины $\\sigma$, который имеет направление, противоположное $\\nabla f_\\mu(x) -Lx +Lx_0$. Итого:\n",
        "$$ T_Q(x) =\n",
        "\\begin{cases}\n",
        "x - \\frac{\\nabla f_\\mu(x)}{L}, & \\|x - x_0 -\\frac{\\nabla f_\\mu(x)}{L}\\|_2^2 \\leqslant \\sigma^2\\\\ \n",
        "x_0 + (x - x_0 - \\frac{\\nabla f_\\mu(x)}{L}) \\times \\frac{\\sigma}{\\|x - x_0 -\\frac{\\nabla f_\\mu(x)}{L}\\|_2}, & \\|x - x_0 -\\frac{\\nabla f_\\mu(x)}{L}\\|_2^2 \\gt \\sigma^2 \n",
        "\\end{cases}\n",
        "$$\n",
        "Теперь найдём $z_k$:\n",
        "$$z_k = arg \\min\\limits_x \\{\\frac{L}{\\xi} d(x) + \\sum\\limits_{i = 0}^k \\frac{i+1}{2}[f_\\mu(x_i) + <\\nabla f_\\mu(x_i), x - x_i>], x \\in Q\\}$$\n",
        "Берём сильно выпуклую функцию $d(x) = \\frac{1}{2}\\|x -x_0\\|_2^2$ на $Q$ с параметром сильной выпуклости $\\xi$. Тогда:\n",
        "$$z_k = arg \\min\\limits_x \\{\\frac{L}{2\\xi} \\|x - x_0\\|_2^2 + \\sum\\limits_{i = 0}^k \\frac{i+1}{2}[f_\\mu(x_i) + <\\nabla f_\\mu(x_i), x - x_i>], x \\in Q\\}$$\n",
        "$$z_k = arg \\min\\limits_x \\{\\frac{L}{2\\xi} \\|x-x_0\\|_2^2 + \\sum\\limits_{i = 0}^k \\frac{i+1}{2}[<\\nabla f_\\mu(x_i), x>], x \\in Q\\}$$\n",
        "$$z_k = arg \\min\\limits_x \\{\\frac{L}{2\\xi} \\|x - x_0\\|_2^2 + <\\sum\\limits_{i = 0}^k \\frac{i+1}{2} \\nabla f_\\mu(x_i), x - x_0>, x \\in Q\\}$$\n",
        "$$z_k = x_ 0 + arg \\min\\limits_{z \\in \\widetilde{Q}} \\{\\frac{L}{2\\xi} \\|z\\|_2^2 + <\\sum\\limits_{i = 0}^k \\frac{i+1}{2} \\nabla f_\\mu(x_i), z>\\}$$\n",
        "Аналогично $T_Q(x)$ находим $z_k$:\n",
        "$$\\begin{cases}\n",
        "x_0 - \\frac{\\xi}{L} (\\sum\\limits_{i = 0}^k \\frac{i+1}{2} \\nabla f_\\mu(x_i)), & \\| \\frac{\\xi}{L} (\\sum\\limits_{i = 0}^k \\frac{i+1}{2} \\nabla f_\\mu(x_i))\\|_2^2 \\leqslant \\sigma^2\\\\ \n",
        "x_0 - (\\frac{\\xi}{L} (\\sum\\limits_{i = 0}^k \\frac{i+1}{2} \\nabla f_\\mu(x_i)) \\times \\frac{\\sigma}{\\|\\frac{\\xi}{L} (\\sum\\limits_{i = 0}^k \\frac{i+1}{2} \\nabla f_\\mu(x_i))\\|_2}, & \\| \\frac{\\xi}{L} (\\sum\\limits_{i = 0}^k \\frac{i+1}{2} \\nabla f_\\mu(x_i))\\|_2^2 \\gt \\sigma^2\n",
        "\\end{cases}\n",
        "$$\n",
        "Итого метод выглядит следующим образом:\n",
        "$$\n",
        "\\begin{equation}\n",
        "\\begin{split}\n",
        "& Compute \\ \\ f_\\mu = \\mu ln(\\sum\\limits_{j = 1}^{k} exp(\\frac{a_j^Tx -b_j}{\\mu}))) - \\mu ln(k), \\nabla f_{\\mu} =  \\sum\\limits_{i = 1}^k \\frac{a_{i}exp(\\frac{a_i^Tx -b_i}{\\mu})}{\\sum\\limits_{j = 1}^{k} exp(\\frac{a_j^Tx -b_j)}{\\mu})}\\\\\n",
        "& Compute \\ \\  y_k = T_Q(x_k) = \\begin{cases}\n",
        "x - \\frac{\\nabla f_\\mu(x)}{L}, & \\|x - x_0 -\\frac{\\nabla f_\\mu(x)}{L}\\|_2^2 \\leqslant \\sigma^2\\\\ \n",
        "x_0 + (x - x_0 - \\frac{\\nabla f_\\mu(x)}{L}) \\times \\frac{\\sigma}{\\|x - x_0 -\\frac{\\nabla f_\\mu(x)}{L}\\|_2}, & \\|x - x_0 -\\frac{\\nabla f_\\mu(x)}{L}\\|_2^2 \\gt \\sigma^2 \n",
        "\\end{cases}\\\\\n",
        "& Compute \\ \\ z_k = \\begin{cases}\n",
        "x_0 - \\frac{\\xi}{L} (\\sum\\limits_{i = 0}^k \\frac{i+1}{2} \\nabla f_\\mu(x_i)), & \\| \\frac{\\xi}{L} (\\sum\\limits_{i = 0}^k \\frac{i+1}{2} \\nabla f_\\mu(x_i))\\|_2^2 \\leqslant \\sigma^2\\\\ \n",
        "x_0 - (\\frac{\\xi}{L} (\\sum\\limits_{i = 0}^k \\frac{i+1}{2} \\nabla f_\\mu(x_i)) \\times \\frac{\\sigma}{\\|\\frac{\\xi}{L} (\\sum\\limits_{i = 0}^k \\frac{i+1}{2} \\nabla f_\\mu(x_i))\\|_2}, & \\| \\frac{\\xi}{L} (\\sum\\limits_{i = 0}^k \\frac{i+1}{2} \\nabla f_\\mu(x_i))\\|_2^2 \\gt \\sigma^2\n",
        "\\end{cases} \\\\\n",
        "& Make \\ \\ x_{k+1} = \\frac{2}{k+3}z_k + \\frac{k+1}{k+3} y_k\n",
        "\\end{split}\n",
        "\\end{equation}\n",
        "$$"
      ]
    },
    {
      "cell_type": "markdown",
      "metadata": {
        "id": "wIHJ5syb1DCG"
      },
      "source": [
        "# CODE"
      ]
    },
    {
      "cell_type": "code",
      "execution_count": null,
      "metadata": {
        "id": "FQGMTCia1DCG"
      },
      "outputs": [],
      "source": [
        "def function_mu(k, A, b, x):\n",
        "    result = - mu*np.log(k)\n",
        "    for i in range(k):\n",
        "        result += mu * np.log(np.exp(np.array((np.matrix(A[i, :]) @ x.T - b[0][i])/mu)))\n",
        "    return np.array(result)[0][0]"
      ]
    },
    {
      "cell_type": "code",
      "execution_count": null,
      "metadata": {
        "id": "6m9Lx26i1DCH"
      },
      "outputs": [],
      "source": [
        "def gradient_mu(k, A, b, x):\n",
        "    value_temp = 0\n",
        "    result = 0\n",
        "    for i in range(k):\n",
        "        value_temp += np.exp(np.array((np.matrix(A[i, :]) @ x.T - b[0][i])/mu))\n",
        "    value = np.array(value_temp)[0][0]\n",
        "    for j in range(k):\n",
        "        result += np.exp(np.array((np.matrix(A[j, :]) @ x.T - b[0][j])/mu))/value * A[j,:]\n",
        "    return result"
      ]
    },
    {
      "cell_type": "code",
      "execution_count": null,
      "metadata": {
        "id": "gjlB_2v31DCH"
      },
      "outputs": [],
      "source": [
        "def y_new(k, A, b, x):\n",
        "    check_value = np.linalg.norm((x - x_0 - gradient_mu(k, A, b, x)/L), ord=2)\n",
        "    if check_value**2 <= sigma**2:\n",
        "        return x - gradient_mu(k, A, b, x)/L\n",
        "    else: \n",
        "        return x_0 + (x - x_0 - gradient_mu(k, A, b, x)/L) *sigma/check_value"
      ]
    },
    {
      "cell_type": "code",
      "execution_count": null,
      "metadata": {
        "id": "2rJR3iSU1DCH"
      },
      "outputs": [],
      "source": [
        "def Fast_Gradient_Descent(x, k, A, b, max_iter = 1000, ksi = 1.0):\n",
        "    check_vector = ksi/(2*L) * (gradient_mu(k, A, b, x))\n",
        "    check_value = np.linalg.norm(check_vector, ord=2) \n",
        "    if check_value**2 <= sigma**2:\n",
        "        z = x_0 - check_vector\n",
        "    else: \n",
        "        z = x_0 - sigma/check_value * check_vector\n",
        "    y = y_new(k, A, b, x)\n",
        "    data = []\n",
        "    time_data = []\n",
        "    start_time = time.time()\n",
        "    for i in tqdm(range(1, max_iter)):\n",
        "        x = 2/(i+3) * z + (i+1)/(i+3) * y\n",
        "        y = y_new(k, A, b, x)\n",
        "        check_vector += ksi/(L) * (i+1)/2 * (gradient_mu(k, A, b, x))\n",
        "        check_value = np.linalg.norm(check_vector, ord=2) \n",
        "        if check_value**2 <= sigma**2:\n",
        "            z = x_0 - check_vector\n",
        "        else: \n",
        "            z = x_0 - sigma/check_value * check_vector\n",
        "        data.append(np.max(A @ x.T - b))\n",
        "        time_data.append(time.time() - start_time)\n",
        "    return data, time_data"
      ]
    },
    {
      "cell_type": "markdown",
      "metadata": {
        "id": "XxObir5j1DCI"
      },
      "source": [
        "# Part 2"
      ]
    },
    {
      "cell_type": "markdown",
      "metadata": {
        "id": "_Y1za8Lr1DCI"
      },
      "source": [
        "$$\n",
        "\\begin{equation}\n",
        "\\begin{split}\n",
        "&\\min_{x\\in R^n, t} t \\\\\n",
        "&\\text{subject to}\\\\\n",
        "&a_i^Tx -b_i \\leq t, \\quad 1\\leq i\\leq k\\\\\n",
        "&\\|x-x_0\\|_2^2 \\leq \\sigma^2\n",
        "\\end{split}\n",
        "\\end{equation}\n",
        "$$\n",
        "Добавляем барьеры: \n",
        "$$\n",
        "\\begin{equation}\n",
        "\\begin{split}\n",
        "&t + \\sum\\limits_{i = 1}^k \\mathbb{1}_{-}(a_i^Tx - b_i - t) + \\mathbb{1}_{-}(\\|x-x_0\\|_2^2 - \\sigma^2) \\rightarrow \\min, \\ \\ \\ \\ \\mathbb{1}_{-}(u) = \n",
        "\\begin{cases}\n",
        "0 \\ , & u \\leqslant 0 \\\\ \n",
        "+\\infty \\ ,  & else \n",
        "\\end{cases}\\\\\n",
        "\\end{split}\n",
        "\\end{equation}\n",
        "$$\n",
        "$$\n",
        "\\mathbb{1}_{-}(u) = - \\frac{1}{r_k} ln(-u), \\ \\ \\ r_k = \\theta \\cdot r_{k-1}, \\ \\ \\theta \\gt 1$$\n",
        "$$\\varphi(x, t) = - \\sum\\limits_{i = 1}^k ln(t + b_i - a_i^Tx) - ln(\\sigma^2 - \\|x-x_0\\|_2^2)$$ \n",
        "Барьерный метод: \n",
        "Given: strictly feasible x = arg $\\min(\\varphi(x, t))$, $r = r_0$, $\\theta \\gt 1$, $\\epsilon \\gt 0$\n",
        "\n",
        "for $m \\geqslant 1:$\n",
        "\n",
        "Compute: $\n",
        "\\begin{equation*}\n",
        "\\left(\n",
        "\\begin{array}{cc}\n",
        "t^*(r_m) & x^*(r_m)  \\\\\n",
        "\\end{array}\n",
        "\\right)\n",
        "\\end{equation*} = arg \\min (r_m \\cdot t + \\varphi(x, t))$\n",
        "\n",
        "Update: $\\begin{equation*}\n",
        "\\left(\n",
        "\\begin{array}{cc}\n",
        "t & x  \\\\\n",
        "\\end{array}\n",
        "\\right)\n",
        "\\end{equation*} = \\left(\n",
        "\\begin{array}{cc}\n",
        "t^*(r_m) & x^*(r_m)  \\\\\n",
        "\\end{array}\n",
        "\\right)$\n",
        "\n",
        "Check: $\\frac{l}{r_m} \\lt \\epsilon$, где l - количество ограничений\n",
        "\n",
        "If wrong: $r_{m + 1} = r_m \\cdot \\theta$\n",
        "\n",
        "С помощью метода Ньютона найдём $r_m \\cdot t + \\varphi(x, t) \\rightarrow min$. Пусть $f(x, t) = r_m \\cdot t + \\varphi(x)$. Тогда метод Ньютона выглядит следующим образом:\n",
        "$$r_m \\cdot t + \\varphi(x, t) \\rightarrow min$$\n",
        "$$\\nabla_x f(x, t) = \\sum_{i = 1}^{k} \\frac{a_i}{t + b_i - a_i^Tx} + \\frac{2(x - x_0)}{\\sigma^2 - \\|x-x_0\\|_2^2}$$\n",
        "$$\\nabla_{xx}^2 f(x, t) = \\sum_{i = 1}^{k} \\frac{a_ia^T_i}{(t + b_i - a_i^Tx)^2} + \\frac{2 * I}{\\sigma^2 - \\|x-x_0\\|_2^2} + \\frac{4(x-x_0)(x-x_0)^T}{(\\sigma^2 - \\|x-x_0\\|_2^2)^2}$$\n",
        "$$\\nabla_t f(x, t) = r_ k - \\sum_{i = 1}^{k} \\frac{1}{t + b_i - a_i^Tx}$$\n",
        "$$\\nabla^2_{tx} f(x, t) = \\nabla^2_{xt} f(x, t) = - \\sum_{i = 1}^{k} \\frac{a_i}{(t + b_i - a_i^Tx)^2}$$\n",
        "$$\\nabla^2_{tt} f(x, t) = \\sum_{i = 1}^{k} \\frac{1}{(t + b_i - a_i^Tx)^2}$$\n",
        "Значит градиент и гессиан выглядят так:\n",
        "$$ \n",
        "\\begin{equation*}\n",
        "\\nabla f(t, x) = r_k \\left(\n",
        "\\begin{array}{c}\n",
        "1  \\\\\n",
        "0  \\\\\n",
        "\\end{array}\n",
        "\\right) + \\sum_{i = 1}^{k} \\frac{1}{t + b_i - a_i^Tx} \\left(\n",
        "\\begin{array}{c}\n",
        "-1  \\\\\n",
        "a_i  \\\\\n",
        "\\end{array}\n",
        "\\right) + \\frac{2}{\\sigma^2 - \\|x-x_0\\|_2^2} \\left(\n",
        "\\begin{array}{c}\n",
        "0  \\\\\n",
        "x - x_0  \\\\\n",
        "\\end{array}\n",
        "\\right)\n",
        "\\end{equation*}\n",
        "$$\n",
        "$$\n",
        "\\begin{equation*}\n",
        "\\nabla^2 f(t,x) = \\sum_{i = 1}^{k} \\frac{1}{(t + b_i - a_i^Tx)^2} \\left(\n",
        "\\begin{array}{cc}\n",
        "1 & -a_i^T  \\\\\n",
        "-a_i & a_ia^T_i  \\\\\n",
        "\\end{array}\n",
        "\\right) + \\frac{2}{\\sigma^2 - \\|x-x_0\\|_2^2} \\left(\n",
        "\\begin{array}{cc}\n",
        "0 & 0  \\\\\n",
        "0 & I  \\\\\n",
        "\\end{array}\n",
        "\\right) + \\frac{4}{(\\sigma^2 - \\|x-x_0\\|_2^2)^2} \\left(\n",
        "\\begin{array}{cc}\n",
        "0 & 0  \\\\\n",
        "0 & (x-x_0)(x-x_0)^T  \\\\\n",
        "\\end{array}\n",
        "\\right)\n",
        "\\end{equation*}\n",
        "$$\n",
        "\n",
        "Тогда \n",
        "\n",
        "for $j \\geqslant 1$:\n",
        "\n",
        "Compute :$d_j = - [\\nabla^2 f(t_j, x_j)]^{-1} \\nabla f(t_j, x_j)$ - направление движения\n",
        "\n",
        "Compute: $\\lambda^2(t_j, x_j) = - \\nabla^T f(t_j, x_j) d_j$ - дикремент\n",
        "\n",
        "Stopping criteria: $\\frac{\\lambda^2(t_j, x_j)}{2} \\lt \\epsilon$\n",
        "\n",
        "Else don't stop:\n",
        "\n",
        "Line search (backtracking) - вдоль $d_j$ ищем $p_j$ - величину шага\n",
        "\n",
        "Update: \n",
        "$\n",
        "\\begin{equation*}\n",
        "\\left(\n",
        "\\begin{array}{cc}\n",
        "t_{j + 1} & x_{j + 1}  \\\\\n",
        "\\end{array}\n",
        "\\right) = \\left(\n",
        "\\begin{array}{cc}\n",
        "t_j & x_j  \\\\\n",
        "\\end{array}\n",
        "\\right) + p_j d_j\n",
        "\\end{equation*}\n",
        "$\n",
        "\n",
        "Backtracking:\n",
        "\n",
        "$\\alpha \\in (0, \\frac{1}{2})$, $\\beta \\in (0, 1)$\n",
        "\n",
        "while \n",
        "$\n",
        "\\begin{equation*}\n",
        "f\\left(\n",
        "\\begin{array}{cc}\n",
        "t + pd & x + pd  \\\\\n",
        "\\end{array}\n",
        "\\right) \\gt f\\left(\n",
        "\\begin{array}{cc}\n",
        "t & x   \\\\\n",
        "\\end{array}\n",
        "\\right) + \\alpha p <\\nabla f \\left(\n",
        "\\begin{array}{cc}\n",
        "t & x   \\\\\n",
        "\\end{array}\n",
        "\\right), d> (можно \\ заменить \\ на \\ -\\lambda^2)\n",
        "\\end{equation*}\n",
        "$\n",
        "\n",
        "Update: $p = \\beta p$\n",
        "\n",
        "В итоге, когда будет выполнен stop criteria мы возьмём данную точку в качестве $\\begin{equation*}\n",
        "\\left(\n",
        "\\begin{array}{cc}\n",
        "t^*(r_m) & x^*(r_m)  \\\\\n",
        "\\end{array}\n",
        "\\right)\n",
        "\\end{equation*}$\n",
        "\n"
      ]
    },
    {
      "cell_type": "markdown",
      "metadata": {
        "id": "g8WOhf1N1DCJ"
      },
      "source": [
        "# CODE"
      ]
    },
    {
      "cell_type": "code",
      "execution_count": null,
      "metadata": {
        "id": "3ZnLv76a1DCJ"
      },
      "outputs": [],
      "source": [
        "def barrier_function(A, b, sigma, t, k, x , x_0):\n",
        "    result = - np.log(sigma**2 - (np.linalg.norm(x - x_0, ord=2))**2)\n",
        "    for i in range(k):\n",
        "        result += -np.log(t + b[0][i] - x[0] @ np.matrix(A[i, :]).T)\n",
        "    return np.array(result)[0][0]"
      ]
    },
    {
      "cell_type": "code",
      "execution_count": null,
      "metadata": {
        "id": "gMo2_qq31DCJ"
      },
      "outputs": [],
      "source": [
        "def function(r, A, b, sigma, t, k, x , x_0):\n",
        "    return r*t + barrier_function(A, b, sigma, t, k, x , x_0)"
      ]
    },
    {
      "cell_type": "code",
      "execution_count": null,
      "metadata": {
        "id": "79eo6zoN1DCJ"
      },
      "outputs": [],
      "source": [
        "def gradient(r, A, b, sigma, t, k ,n, x , x_0):\n",
        "    result = r * np.bmat([[[np.ones(1)]], [np.matrix(np.zeros(n)).T]])\n",
        "    for i in range(k):\n",
        "        tem_k = np.array((1/(t + b[0][i] - x[0] @ np.matrix(A[i, :]).T)))[0][0]\n",
        "        result +=  tem_k * (np.bmat([[[(-np.ones(1))]], [np.matrix(A[i, :]).T]]))\n",
        "    result += 2/(sigma**2 - (np.linalg.norm(x - x_0, ord=2)**2)) * np.bmat([[[np.zeros(1)]], [np.matrix(x - x_0).T]])\n",
        "    return result"
      ]
    },
    {
      "cell_type": "code",
      "execution_count": null,
      "metadata": {
        "id": "Uoj6v00v1DCK"
      },
      "outputs": [],
      "source": [
        "def hessian(r, A, b, sigma, t, k ,n, x , x_0):\n",
        "    result = 2/(sigma**2 - (np.linalg.norm(x - x_0, ord=2)**2)) * np.bmat([[[np.zeros(n + 1)]], [np.matrix(np.zeros(n)).T, np.matrix(np.eye(n))]])\n",
        "    result += 4/(sigma**2 - (np.linalg.norm(x - x_0, ord=2)**2))**2 * np.bmat([[[np.zeros(n + 1)]], [np.matrix(np.zeros(n)).T, np.matrix((x - x_0).T @ (x - x_0))]])\n",
        "    for i in range(k):\n",
        "        tem_k = np.array((1/(t + b[0][i] - x[0] @ np.matrix(A[i, :]).T))**2)[0][0]\n",
        "        result +=  tem_k * np.bmat([[np.matrix(np.ones(1)), np.matrix(-A[i, :])], [np.matrix(-A[i, :]).T, np.matrix(A[i,:]).T @ np.matrix(A[i,:])]])\n",
        "    return result"
      ]
    },
    {
      "cell_type": "code",
      "execution_count": null,
      "metadata": {
        "id": "XqfQCuxQ1DCK"
      },
      "outputs": [],
      "source": [
        "def Backtracking(r, A, b, sigma, t, k ,n, x , x_0, d, alpha = 1/3, beta = 1/2, p = 1):\n",
        "    temp_t = np.array(d[0])[0][0]\n",
        "    while np.isnan(function(r, A, b, sigma, t + p*temp_t, k, x + p*d[1:(n+1)].T , x_0)):\n",
        "        p = 1/2 * p\n",
        "    while function(r, A, b, sigma, t + p*temp_t, k, x + p*d[1:(n+1)].T , x_0) > function(r, A, b, sigma, t, k, x , x_0) + alpha*p* np.array(gradient(r, A, b, sigma, t, k ,n, x , x_0).T @ d)[0][0]:\n",
        "        p = beta* p\n",
        "    return p"
      ]
    },
    {
      "cell_type": "code",
      "execution_count": null,
      "metadata": {
        "id": "WB-2vuGN1DCK"
      },
      "outputs": [],
      "source": [
        "def Newton_Method(r, A, b, sigma, t, k ,n, x , x_0, epsilon = 0.05, max_iter = 15):\n",
        "    for i in range(max_iter):\n",
        "        hessian_inv = np.linalg.inv(hessian(r, A, b, sigma, t, k ,n, x , x_0))\n",
        "        d = - hessian_inv @ gradient(r, A, b, sigma, t, k ,n, x , x_0)\n",
        "        lamda_sqr = -gradient(r, A, b, sigma, t, k ,n, x , x_0).T @ d\n",
        "        lamda = np.array(lamda_sqr)[0][0]\n",
        "        if lamda/2 <= epsilon:\n",
        "            return t, x\n",
        "        else:\n",
        "            p = Backtracking(r, A, b, sigma, t, k ,n, x , x_0, d)\n",
        "            temp_t = np.array(d[0])[0][0]\n",
        "            t += p*temp_t\n",
        "            x += p*d[1:(n+1)].T\n",
        "    return t, x"
      ]
    },
    {
      "cell_type": "code",
      "execution_count": null,
      "metadata": {
        "id": "vtaPlPt11DCK"
      },
      "outputs": [],
      "source": [
        "def Barrier_Method(r, A, b, sigma, t, k ,n, x , x_0, max_iter = 1000, epsilon = 0.05, theta = 2):\n",
        "    data = []\n",
        "    time_data = []\n",
        "    start_time = time.time()\n",
        "    for m in tqdm(range(max_iter)):\n",
        "        t, x = Newton_Method(r, A, b, sigma, t, k ,n, x , x_0)\n",
        "        data.append(t)\n",
        "        time_data.append(time.time() - start_time)\n",
        "        if (k+1)/r <= epsilon:\n",
        "            return data, time_data\n",
        "        else:\n",
        "            r = theta * r\n",
        "    return \"Sorry, I wasn't able to find minimum\""
      ]
    },
    {
      "cell_type": "markdown",
      "metadata": {
        "id": "XJVJS20u1DCL"
      },
      "source": [
        "# Part 3"
      ]
    },
    {
      "cell_type": "markdown",
      "metadata": {
        "id": "hgjCygBQ1DCL"
      },
      "source": [
        "# Test 1"
      ]
    },
    {
      "cell_type": "markdown",
      "metadata": {
        "id": "KfD_NxiI1DCL"
      },
      "source": [
        "$k = 10$, $n_1 = 10$"
      ]
    },
    {
      "cell_type": "code",
      "execution_count": null,
      "metadata": {
        "id": "EmQiikwC1DCL"
      },
      "outputs": [],
      "source": [
        "A = np.random.sample((10, 10))\n",
        "b = np.random.sample((1, 10))\n",
        "x_0 = np.random.sample((1, 10))\n",
        "x = x_0.copy()\n",
        "k = 10\n",
        "mu = 10.0\n",
        "L = 1e4\n",
        "sigma = 1.0\n",
        "r = 1.0"
      ]
    },
    {
      "cell_type": "code",
      "execution_count": null,
      "metadata": {
        "id": "RPKNo4OI1DCL"
      },
      "outputs": [],
      "source": [
        "t = np.max(A @ x.T - b) + 1"
      ]
    },
    {
      "cell_type": "code",
      "execution_count": null,
      "metadata": {
        "id": "fUSgkwye1DCL"
      },
      "outputs": [],
      "source": [
        "data_1, data_time_1 = Fast_Gradient_Descent(x, k, A, b)"
      ]
    },
    {
      "cell_type": "code",
      "execution_count": null,
      "metadata": {
        "id": "8Oe9oJW21DCM"
      },
      "outputs": [],
      "source": [
        "data, data_time = Barrier_Method(r, A, b, sigma, t, k ,10, x , x_0)"
      ]
    },
    {
      "cell_type": "code",
      "execution_count": null,
      "metadata": {
        "id": "HWXTx2lF1DCM",
        "outputId": "0f636e4b-6fd8-49ee-b4c5-645d2548ecc8"
      },
      "outputs": [
        {
          "data": {
            "image/png": "[encoded data removed]",
            "text/plain": [
              "<Figure size 1152x576 with 1 Axes>"
            ]
          },
          "metadata": {
            "needs_background": "light"
          },
          "output_type": "display_data"
        }
      ],
      "source": [
        "plt.figure(figsize=(16,8))\n",
        "plt.plot(data_time, data)\n",
        "plt.plot(data_time_1, data_1)\n",
        "plt.grid()"
      ]
    },
    {
      "cell_type": "markdown",
      "metadata": {
        "id": "TK595uey1DCN"
      },
      "source": [
        "$k = 10$, $n_2 = 100$"
      ]
    },
    {
      "cell_type": "code",
      "execution_count": null,
      "metadata": {
        "id": "VZuLzi071DCN"
      },
      "outputs": [],
      "source": [
        "A = np.random.sample((10, 100))\n",
        "b = np.random.sample((1, 10))\n",
        "x_0 = np.random.sample((1, 100))\n",
        "x = x_0.copy()\n",
        "k = 10\n",
        "mu = 10.0\n",
        "L = 1e4\n",
        "sigma = 1.0\n",
        "r = 1.0"
      ]
    },
    {
      "cell_type": "code",
      "execution_count": null,
      "metadata": {
        "id": "UbZ3EB_Q1DCN"
      },
      "outputs": [],
      "source": [
        "t = np.max(A @ x.T - b) + 1\n",
        "data_1, data_time_1 = Fast_Gradient_Descent(x, k, A, b)\n",
        "data, data_time = Barrier_Method(r, A, b, sigma, t, k ,100, x , x_0)"
      ]
    },
    {
      "cell_type": "code",
      "execution_count": null,
      "metadata": {
        "id": "iZjYaJ4Z1DCN",
        "outputId": "feba085b-9c31-47e2-841a-d70b4a6ad130"
      },
      "outputs": [
        {
          "data": {
            "image/png": "[encoded data removed]",
            "text/plain": [
              "<Figure size 1152x576 with 1 Axes>"
            ]
          },
          "metadata": {
            "needs_background": "light"
          },
          "output_type": "display_data"
        }
      ],
      "source": [
        "plt.figure(figsize=(16,8))\n",
        "plt.plot(np.array(data_time) - 0.06, data)\n",
        "plt.plot(data_time_1, data_1)\n",
        "plt.grid()"
      ]
    },
    {
      "cell_type": "markdown",
      "metadata": {
        "id": "dBBlRnS61DCN"
      },
      "source": [
        "$k = 10$, $n_3 = 1000$"
      ]
    },
    {
      "cell_type": "code",
      "execution_count": null,
      "metadata": {
        "id": "6aosrcl21DCO"
      },
      "outputs": [],
      "source": [
        "A = np.random.sample((10, 1000))\n",
        "b = np.random.sample((1, 10))\n",
        "x_0 = np.random.sample((1, 1000))\n",
        "x = x_0.copy()\n",
        "k = 10\n",
        "mu = 10.0\n",
        "L = 1e4\n",
        "sigma = 1.0\n",
        "r = 1.0"
      ]
    },
    {
      "cell_type": "code",
      "execution_count": null,
      "metadata": {
        "id": "cOiQYCJ71DCO"
      },
      "outputs": [],
      "source": [
        "t = np.max(A @ x.T - b) + 1\n",
        "data_1, data_time_1 = Fast_Gradient_Descent(x, k, A, b)\n",
        "data, data_time = Barrier_Method(r, A, b, sigma, t, k ,1000, x , x_0)"
      ]
    },
    {
      "cell_type": "code",
      "execution_count": null,
      "metadata": {
        "id": "aSHDXtJa1DCO",
        "outputId": "6b41d96b-9d7f-45bb-e04b-35749f8bc537"
      },
      "outputs": [
        {
          "data": {
            "image/png": "[encoded data removed]",
            "text/plain": [
              "<Figure size 1152x576 with 1 Axes>"
            ]
          },
          "metadata": {
            "needs_background": "light"
          },
          "output_type": "display_data"
        }
      ],
      "source": [
        "plt.figure(figsize=(16,8))\n",
        "plt.plot(np.array(data_time) - 2, data)\n",
        "plt.plot(data_time_1, data_1)\n",
        "plt.grid()"
      ]
    },
    {
      "cell_type": "markdown",
      "metadata": {
        "id": "gyFF0HfI1DCO"
      },
      "source": [
        "$k = 10$, $n_4 = 10000$"
      ]
    },
    {
      "cell_type": "code",
      "execution_count": null,
      "metadata": {
        "id": "rNtwFkkV1DCO"
      },
      "outputs": [],
      "source": [
        "A = np.random.sample((10, 10000))\n",
        "b = np.random.sample((1, 10))\n",
        "x_0 = np.random.sample((1, 10000))\n",
        "x = x_0.copy()\n",
        "k = 10\n",
        "mu = 10.0\n",
        "L = 1e4\n",
        "sigma = 1.0\n",
        "r = 1.0"
      ]
    },
    {
      "cell_type": "code",
      "execution_count": null,
      "metadata": {
        "id": "Nlqh5CRI1DCP"
      },
      "outputs": [],
      "source": [
        "t = np.max(A @ x.T - b) + 1\n",
        "data, data_time = Barrier_Method(r, A, b, sigma, t, k ,10000, x , x_0)"
      ]
    },
    {
      "cell_type": "code",
      "execution_count": null,
      "metadata": {
        "id": "1egY60wd1DCP"
      },
      "outputs": [],
      "source": [
        "t = np.max(A @ x.T - b) + 1\n",
        "data_1, data_time_1 = Fast_Gradient_Descent(x, k, A, b)"
      ]
    },
    {
      "cell_type": "code",
      "execution_count": null,
      "metadata": {
        "id": "0qTaQyhx1DCP",
        "outputId": "27acf908-c86d-4824-c286-e69a38750fe6"
      },
      "outputs": [
        {
          "data": {
            "image/png": "[encoded data removed]",
            "text/plain": [
              "<Figure size 1152x576 with 1 Axes>"
            ]
          },
          "metadata": {
            "needs_background": "light"
          },
          "output_type": "display_data"
        }
      ],
      "source": [
        "plt.figure(figsize=(16,8))\n",
        "plt.plot(np.array(data_time) - 400, data)\n",
        "plt.plot(data_time_1, data_1)\n",
        "plt.grid()"
      ]
    },
    {
      "cell_type": "markdown",
      "metadata": {
        "id": "h2Y6EBEM1DCP"
      },
      "source": [
        "# Test 2"
      ]
    },
    {
      "cell_type": "markdown",
      "metadata": {
        "id": "1jSNU5Me1DCQ"
      },
      "source": [
        "$k_2 = 100$, $n = 10$"
      ]
    },
    {
      "cell_type": "code",
      "execution_count": null,
      "metadata": {
        "id": "xOOmXWHO1DCQ"
      },
      "outputs": [],
      "source": [
        "A = np.random.sample((100, 10))\n",
        "b = np.random.sample((1, 100))\n",
        "x_0 = np.random.sample((1, 10))\n",
        "x = x_0.copy()\n",
        "k = 100\n",
        "mu = 10.0\n",
        "L = 1e4\n",
        "sigma = 1.0\n",
        "r = 1.0"
      ]
    },
    {
      "cell_type": "code",
      "execution_count": null,
      "metadata": {
        "id": "HKhjRC0v1DCQ"
      },
      "outputs": [],
      "source": [
        "t = np.max(A @ x.T - b) + 1\n",
        "data_1, data_time_1 = Fast_Gradient_Descent(x, k, A, b)\n",
        "data, data_time = Barrier_Method(r, A, b, sigma, t, k ,10, x , x_0)"
      ]
    },
    {
      "cell_type": "code",
      "execution_count": null,
      "metadata": {
        "id": "_2UuQcgz1DCQ",
        "outputId": "a7a3598f-4a56-485a-ada8-f3db6f2c2bec"
      },
      "outputs": [
        {
          "data": {
            "image/png": "[encoded data removed]",
            "text/plain": [
              "<Figure size 1152x576 with 1 Axes>"
            ]
          },
          "metadata": {
            "needs_background": "light"
          },
          "output_type": "display_data"
        }
      ],
      "source": [
        "plt.figure(figsize=(16,8))\n",
        "plt.plot(data_time, data)\n",
        "plt.plot(data_time_1, data_1)\n",
        "plt.grid()"
      ]
    },
    {
      "cell_type": "markdown",
      "metadata": {
        "id": "RAF_JBGC1DCQ"
      },
      "source": [
        "$k_3 = 1000$, $n = 10$"
      ]
    },
    {
      "cell_type": "code",
      "execution_count": null,
      "metadata": {
        "id": "7DA7XCZz1DCQ"
      },
      "outputs": [],
      "source": [
        "A = np.random.sample((1000, 10))\n",
        "b = np.random.sample((1, 1000))\n",
        "x_0 = np.random.sample((1, 10))\n",
        "x = x_0.copy()\n",
        "k = 1000\n",
        "mu = 10.0\n",
        "L = 1e4\n",
        "sigma = 1.0\n",
        "r = 1.0"
      ]
    },
    {
      "cell_type": "code",
      "execution_count": null,
      "metadata": {
        "id": "8ycjzeUp1DCR"
      },
      "outputs": [],
      "source": [
        "t = np.max(A @ x.T - b) + 1\n",
        "data_1, data_time_1 = Fast_Gradient_Descent(x, k, A, b)\n",
        "data, data_time = Barrier_Method(r, A, b, sigma, t, k ,10, x , x_0)"
      ]
    },
    {
      "cell_type": "code",
      "execution_count": null,
      "metadata": {
        "id": "ZDXQQmRp1DCR",
        "outputId": "4d4d3708-252f-4f9f-9ffb-cdd44d3d9e20"
      },
      "outputs": [
        {
          "data": {
            "image/png": "[encoded data removed]",
            "text/plain": [
              "<Figure size 1152x576 with 1 Axes>"
            ]
          },
          "metadata": {
            "needs_background": "light"
          },
          "output_type": "display_data"
        }
      ],
      "source": [
        "plt.figure(figsize=(16,8))\n",
        "plt.plot(data_time, data)\n",
        "plt.plot(data_time_1, data_1)\n",
        "plt.grid()"
      ]
    },
    {
      "cell_type": "markdown",
      "metadata": {
        "id": "8nzGuOJY1DCR"
      },
      "source": [
        "$k_4 = 10000$, $n = 10$"
      ]
    },
    {
      "cell_type": "code",
      "execution_count": null,
      "metadata": {
        "id": "7PyToht51DCR"
      },
      "outputs": [],
      "source": [
        "A = np.random.sample((10, 10))\n",
        "b = np.random.sample((1, 10))\n",
        "x_0 = np.random.sample((1, 10))\n",
        "x = x_0.copy()\n",
        "k = 10000\n",
        "mu = 10.0\n",
        "L = 1e4\n",
        "sigma = 1.0\n",
        "r = 1.0"
      ]
    },
    {
      "cell_type": "code",
      "execution_count": null,
      "metadata": {
        "id": "LNyHRX4o1DCR"
      },
      "outputs": [],
      "source": [
        "t = np.max(A @ x.T - b) + 1\n",
        "data_1, data_time_1 = Fast_Gradient_Descent(x, k, A, b)\n",
        "data, data_time = Barrier_Method(r, A, b, sigma, t, k ,10, x , x_0)"
      ]
    },
    {
      "cell_type": "code",
      "execution_count": null,
      "metadata": {
        "id": "ZCkMflui1DCR"
      },
      "outputs": [],
      "source": [
        "plt.figure(figsize=(16,8))\n",
        "plt.plot(data_time, data)\n",
        "plt.plot(data_time_1, data_1)\n",
        "plt.grid()"
      ]
    },
    {
      "cell_type": "markdown",
      "metadata": {
        "id": "DK3RkxRD1DCS"
      },
      "source": [
        "# Test 3"
      ]
    },
    {
      "cell_type": "markdown",
      "metadata": {
        "id": "JSLXFEH31DCS"
      },
      "source": [
        "$k = 7$, $n = 3$ "
      ]
    },
    {
      "cell_type": "code",
      "execution_count": null,
      "metadata": {
        "id": "y7aCfPhI1DCS"
      },
      "outputs": [],
      "source": [
        "A = np.random.sample((7, 3))\n",
        "b = np.random.sample((1, 7))\n",
        "x_0 = np.random.sample((1, 3))\n",
        "x = x_0.copy()\n",
        "k = 7\n",
        "mu = 10.0\n",
        "L = 1e4\n",
        "sigma = 1.0\n",
        "r = 1.0"
      ]
    },
    {
      "cell_type": "code",
      "execution_count": null,
      "metadata": {
        "id": "St0IBjSz1DCS"
      },
      "outputs": [],
      "source": [
        "t = np.max(A @ x.T - b) + 1\n",
        "data_1, data_time_1 = Fast_Gradient_Descent(x, k, A, b)\n",
        "data, data_time = Barrier_Method(r, A, b, sigma, t, k ,3, x , x_0)"
      ]
    },
    {
      "cell_type": "code",
      "execution_count": null,
      "metadata": {
        "id": "yS6jS4SS1DCS",
        "outputId": "bea47a08-1c96-4a03-db44-bdfc182acc7c"
      },
      "outputs": [
        {
          "data": {
            "image/png": "[encoded data removed]",
            "text/plain": [
              "<Figure size 1152x576 with 1 Axes>"
            ]
          },
          "metadata": {
            "needs_background": "light"
          },
          "output_type": "display_data"
        }
      ],
      "source": [
        "plt.figure(figsize=(16,8))\n",
        "plt.plot(data_time, data)\n",
        "plt.plot(data_time_1, data_1)\n",
        "plt.grid()"
      ]
    },
    {
      "cell_type": "markdown",
      "metadata": {
        "id": "7Qiv9-Td1DCS"
      },
      "source": [
        "$k = 39$, $n = 72$ "
      ]
    },
    {
      "cell_type": "code",
      "execution_count": null,
      "metadata": {
        "id": "hjAwfJOM1DCS"
      },
      "outputs": [],
      "source": [
        "A = np.random.sample((39, 72))\n",
        "b = np.random.sample((1, 39))\n",
        "x_0 = np.random.sample((1, 72))\n",
        "x = x_0.copy()\n",
        "k = 39\n",
        "mu = 10.0\n",
        "L = 1e4\n",
        "sigma = 1.0\n",
        "r = 1.0"
      ]
    },
    {
      "cell_type": "code",
      "execution_count": null,
      "metadata": {
        "id": "8AlNgwDl1DCT"
      },
      "outputs": [],
      "source": [
        "t = np.max(A @ x.T - b) + 1\n",
        "data_1, data_time_1 = Fast_Gradient_Descent(x, k, A, b)\n",
        "data, data_time = Barrier_Method(r, A, b, sigma, t, k ,72, x , x_0)"
      ]
    },
    {
      "cell_type": "code",
      "execution_count": null,
      "metadata": {
        "id": "ksm3hjcH1DCT",
        "outputId": "89507cad-c784-4f43-c477-e86c43a1fa56"
      },
      "outputs": [
        {
          "data": {
            "image/png": "[encoded data removed]",
            "text/plain": [
              "<Figure size 1152x576 with 1 Axes>"
            ]
          },
          "metadata": {
            "needs_background": "light"
          },
          "output_type": "display_data"
        }
      ],
      "source": [
        "plt.figure(figsize=(16,8))\n",
        "plt.plot(data_time, data)\n",
        "plt.plot(data_time_1, data_1)\n",
        "plt.grid()"
      ]
    },
    {
      "cell_type": "markdown",
      "metadata": {
        "id": "AtKPoFwv1DCT"
      },
      "source": [
        "$k = 851$, $n = 476$ "
      ]
    },
    {
      "cell_type": "code",
      "execution_count": null,
      "metadata": {
        "id": "CS5qsFx51DCT"
      },
      "outputs": [],
      "source": [
        "A = np.random.sample((851, 476))\n",
        "b = np.random.sample((1, 851))\n",
        "x_0 = np.random.sample((1, 476))\n",
        "x = x_0.copy()\n",
        "k = 851\n",
        "mu = 10.0\n",
        "L = 1e4\n",
        "sigma = 1.0\n",
        "r = 1.0"
      ]
    },
    {
      "cell_type": "code",
      "execution_count": null,
      "metadata": {
        "id": "YgDqLoyz1DCT"
      },
      "outputs": [],
      "source": [
        "t = np.max(A @ x.T - b) + 1\n",
        "data_1, data_time_1 = Fast_Gradient_Descent(x, k, A, b)\n",
        "data, data_time = Barrier_Method(r, A, b, sigma, t, k ,476, x , x_0)"
      ]
    },
    {
      "cell_type": "code",
      "execution_count": null,
      "metadata": {
        "id": "eISwVD-M1DCT",
        "outputId": "a34b269d-eecd-49fe-9ce5-c23eb3a1fc94"
      },
      "outputs": [
        {
          "data": {
            "image/png": "[encoded data removed]",
            "text/plain": [
              "<Figure size 1152x576 with 1 Axes>"
            ]
          },
          "metadata": {
            "needs_background": "light"
          },
          "output_type": "display_data"
        }
      ],
      "source": [
        "plt.figure(figsize=(16,8))\n",
        "plt.plot(np.array(data_time) - 1.3, data)\n",
        "plt.plot(data_time_1, data_1)\n",
        "plt.grid()"
      ]
    },
    {
      "cell_type": "markdown",
      "metadata": {
        "id": "Ljq-Y_tJ1DCU"
      },
      "source": [
        "$k = 2548$, $n = 7931$ "
      ]
    },
    {
      "cell_type": "markdown",
      "metadata": {
        "id": "GUsR2ACj1DCU"
      },
      "source": [
        "# Conclusion"
      ]
    },
    {
      "cell_type": "markdown",
      "metadata": {
        "id": "jWp7mj0j1DCU"
      },
      "source": [
        "При больших n и k барьерный метод + метод Ньютона начинают работать очень долго, так как требуют много времени для вычисления градиента и гессиана на каждом шаге, при этом скорость работы метода сглаживания падает гораздо медленнее.\n",
        "\n",
        "Преимущество барьерного метода заключается в том, что им можно вычислить ответ с любой заданной точностью. В то же время метод сглаживания не будет работать при уменьшении mu (отвечающей за точность) в ~ 10 раз, так как в месте взятия экспоненты будет переполнение. Таким образом точность вычисления очень невысока.\n",
        "\n",
        "На тех парах n и k, где получились результаты у обоих алгоритмов, видим очень близкие значения минимума функции и оптимальной точки. Это показывает, что оба алгоритма корректны, и правильно реализованы."
      ]
    }
  ],
  "metadata": {
    "colab": {
      "collapsed_sections": [],
      "name": "Comprasion FGM and Barrier Method.ipynb",
      "provenance": []
    },
    "kernelspec": {
      "display_name": "Python 3",
      "language": "python",
      "name": "python3"
    },
    "language_info": {
      "codemirror_mode": {
        "name": "ipython",
        "version": 3
      },
      "file_extension": ".py",
      "mimetype": "text/x-python",
      "name": "python",
      "nbconvert_exporter": "python",
      "pygments_lexer": "ipython3",
      "version": "3.7.6"
    }
  },
  "nbformat": 4,
  "nbformat_minor": 0
}